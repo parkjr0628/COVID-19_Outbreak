{
 "cells": [
  {
   "cell_type": "code",
   "execution_count": 1,
   "metadata": {},
   "outputs": [],
   "source": [
    "import os\n",
    "import numpy as np\n",
    "import pandas as pd\n",
    "\n",
    "from sklearn.preprocessing import StandardScaler\n",
    "\n",
    "from sklearn.svm import SVC\n",
    "from sklearn.ensemble import RandomForestClassifier\n",
    "from xgboost import XGBClassifier\n",
    "\n",
    "\n",
    "from sklearn.metrics import accuracy_score, classification_report\n",
    "from sklearn.model_selection import cross_val_score"
   ]
  },
  {
   "cell_type": "code",
   "execution_count": 2,
   "metadata": {},
   "outputs": [],
   "source": [
    "current = os.getcwd()\n",
    "\n",
    "### load data\n",
    "### machine learning data\n",
    "train = pd.read_csv('data/train.csv', index_col=0)\n",
    "test = pd.read_csv('data/test.csv', index_col=0)\n",
    "\n",
    "### make_result_data\n",
    "ml_train_results = train[['data_num','label']].copy()\n",
    "ml_test_results = test[['data_num','label']].copy()\n",
    "\n",
    "grid_para = {'svm':{'C': 130.0, 'gamma': 0.2, 'kernel': 'rbf'},\n",
    "             'rf' :{'max_depth': 16, 'n_estimators': 95, 'random_state': 42}, \n",
    "             'xgb':{'max_depth': 8, 'n_estimators': 115, 'random_state': 42}}"
   ]
  },
  {
   "cell_type": "code",
   "execution_count": 3,
   "metadata": {},
   "outputs": [],
   "source": [
    "feature_col = ['week',\n",
    "               'part1_patient_mean',\n",
    "               'part1_slope', 'part1_std'] + ['policy1','Delta1','Omicron1','policy2'] \n",
    "\n",
    "scaler = StandardScaler()\n",
    "\n",
    "X_scaled = scaler.fit_transform(train[feature_col])\n",
    "X_test_scaled = scaler.transform(test[feature_col])\n",
    "y_train = train['label']\n",
    "y_test = test['label']"
   ]
  },
  {
   "cell_type": "code",
   "execution_count": 4,
   "metadata": {},
   "outputs": [
    {
     "name": "stdout",
     "output_type": "stream",
     "text": [
      "train acc :  0.9835082458770614\n",
      "test acc :  0.9370629370629371\n",
      "              precision    recall  f1-score   support\n",
      "\n",
      "         0.0       0.96      0.95      0.95        95\n",
      "         1.0       0.89      0.95      0.92        95\n",
      "         2.0       0.97      0.92      0.94        96\n",
      "\n",
      "    accuracy                           0.94       286\n",
      "   macro avg       0.94      0.94      0.94       286\n",
      "weighted avg       0.94      0.94      0.94       286\n",
      "\n",
      "10-fold cross validation : [0.94029851 1.         0.92537313 0.89552239 0.94029851 0.89552239\n",
      " 0.88059701 0.89393939 0.90909091 0.83333333]\n",
      "cross validation mean : 0.9113975576662143\n"
     ]
    }
   ],
   "source": [
    "grid_svm = grid_para['svm']\n",
    "\n",
    "svm_model = SVC(C=grid_svm['C'], \n",
    "            gamma=grid_svm['gamma'], \n",
    "            kernel=grid_svm['kernel'],\n",
    "            probability=True)\n",
    "svm_model.fit(X_scaled, y_train)\n",
    "\n",
    "\n",
    "\n",
    "svm_pred_train = svm_model.predict(X_scaled)\n",
    "svm_pred_test = svm_model.predict(X_test_scaled)\n",
    "\n",
    "\n",
    "print('train acc : ', accuracy_score(y_train, svm_pred_train))\n",
    "print('test acc : ', accuracy_score(y_test, svm_pred_test))\n",
    "print(classification_report(y_test, svm_pred_test))\n",
    "\n",
    "###\n",
    "svm_scores = cross_val_score(svm_model,                 # ML 모델\n",
    "                         X_scaled,            # train data\n",
    "                         y_train,             # test data\n",
    "                         scoring='accuracy',  # 예측성능평가 지표\n",
    "                         cv=10)                # kfold k=cv\n",
    "\n",
    "print('10-fold cross validation :', svm_scores)\n",
    "print('cross validation mean :', np.mean(svm_scores))\n",
    "\n",
    "\n",
    "proba = svm_model.predict_proba(X_test_scaled)\n",
    "np.savetxt('data/svm_proba.csv',proba,delimiter=\",\")\n",
    "\n",
    "# # save svm results\n",
    "ml_train_results['svm'] = svm_pred_train\n",
    "ml_test_results['svm'] = svm_pred_test\n",
    "\n"
   ]
  },
  {
   "cell_type": "code",
   "execution_count": 5,
   "metadata": {},
   "outputs": [
    {
     "name": "stdout",
     "output_type": "stream",
     "text": [
      "train acc :  1.0\n",
      "test acc :  0.9475524475524476\n",
      "              precision    recall  f1-score   support\n",
      "\n",
      "         0.0       0.96      0.97      0.96        95\n",
      "         1.0       0.91      0.94      0.92        95\n",
      "         2.0       0.98      0.94      0.96        96\n",
      "\n",
      "    accuracy                           0.95       286\n",
      "   macro avg       0.95      0.95      0.95       286\n",
      "weighted avg       0.95      0.95      0.95       286\n",
      "\n",
      "10-fold cross validation : [0.95522388 0.97014925 0.97014925 0.94029851 0.92537313 0.91044776\n",
      " 0.92537313 0.92424242 0.87878788 0.89393939]\n",
      "cross validation mean : 0.9293984622342831\n"
     ]
    }
   ],
   "source": [
    "grid_rf = grid_para['rf']\n",
    "rf_model = RandomForestClassifier(n_estimators=grid_rf['n_estimators'], \n",
    "                                  max_depth=grid_rf['max_depth'],\n",
    "                                  random_state=grid_rf['random_state'],\n",
    "                                  )\n",
    "rf_model.fit(X_scaled, y_train)\n",
    "\n",
    "rf_pred_train = rf_model.predict(X_scaled)\n",
    "rf_pred_test = rf_model.predict(X_test_scaled)\n",
    "\n",
    "print('train acc : ', accuracy_score(y_train, rf_pred_train))\n",
    "print('test acc : ', accuracy_score(y_test, rf_pred_test))\n",
    "print(classification_report(y_test, rf_pred_test))\n",
    "\n",
    "rf_scores = cross_val_score(rf_model,                 # ML 모델\n",
    "                         X_scaled,            # train data\n",
    "                         y_train,             # test data\n",
    "                         scoring='accuracy',  # 예측성능평가 지표\n",
    "                         cv=10)                # kfold k=cv\n",
    "\n",
    "print('10-fold cross validation :', rf_scores)\n",
    "print('cross validation mean :', np.mean(rf_scores))\n",
    "\n",
    "proba = rf_model.predict_proba(X_test_scaled)\n",
    "np.savetxt('data/rf_proba.csv',proba,delimiter=\",\")\n",
    "\n",
    "# save rf results\n",
    "ml_train_results['rf']=rf_pred_train\n",
    "ml_test_results['rf']=rf_pred_test\n"
   ]
  },
  {
   "cell_type": "code",
   "execution_count": 6,
   "metadata": {},
   "outputs": [
    {
     "name": "stdout",
     "output_type": "stream",
     "text": [
      "train acc :  1.0\n",
      "test acc :  0.965034965034965\n",
      "              precision    recall  f1-score   support\n",
      "\n",
      "         0.0       0.97      0.98      0.97        95\n",
      "         1.0       0.94      0.96      0.95        95\n",
      "         2.0       0.99      0.96      0.97        96\n",
      "\n",
      "    accuracy                           0.97       286\n",
      "   macro avg       0.97      0.97      0.97       286\n",
      "weighted avg       0.97      0.97      0.97       286\n",
      "\n",
      "10-fold cross validation : [0.92537313 1.         0.95522388 0.92537313 0.92537313 0.94029851\n",
      " 0.94029851 0.96969697 0.90909091 0.92424242]\n",
      "cross validation mean : 0.9414970601537765\n"
     ]
    }
   ],
   "source": [
    "grid_xgb = grid_para['xgb']\n",
    "\n",
    "xgb_model = XGBClassifier(n_estimators=grid_xgb['n_estimators'], \n",
    "            max_depth=grid_xgb['max_depth'],\n",
    "            random_state=grid_xgb['random_state'])\n",
    "xgb_model.fit(X_scaled, y_train)\n",
    "\n",
    "xgb_pred_train = xgb_model.predict(X_scaled)\n",
    "xgb_pred_test = xgb_model.predict(X_test_scaled)\n",
    "\n",
    "print('train acc : ', accuracy_score(y_train, xgb_pred_train))\n",
    "print('test acc : ', accuracy_score(y_test, xgb_pred_test))\n",
    "print(classification_report(y_test, xgb_pred_test))\n",
    "\n",
    "xgb_scores = cross_val_score(xgb_model,                 # ML 모델\n",
    "                         X_scaled,            # train data\n",
    "                         y_train,             # test data\n",
    "                         scoring='accuracy',  # 예측성능평가 지표\n",
    "                         cv=10)                # kfold k=cv\n",
    "\n",
    "print('10-fold cross validation :', xgb_scores)\n",
    "print('cross validation mean :', np.mean(xgb_scores))\n",
    "\n",
    "proba = xgb_model.predict_proba(X_test_scaled)\n",
    "np.savetxt('data/xgb_proba.csv',proba,delimiter=\",\")\n",
    "\n",
    "# save xgb results\n",
    "ml_train_results['xgb']=xgb_pred_train\n",
    "ml_test_results['xgb']=xgb_pred_test\n"
   ]
  },
  {
   "cell_type": "code",
   "execution_count": 7,
   "metadata": {},
   "outputs": [],
   "source": [
    "ml_train_results.to_csv('result/ml_train_results.csv')\n",
    "ml_test_results.to_csv('result/ml_test_results.csv')"
   ]
  },
  {
   "cell_type": "code",
   "execution_count": 11,
   "metadata": {},
   "outputs": [],
   "source": [
    "feature_importance_dict = {'feature':feature_col,'RF':rf_model.feature_importances_, 'XGB':xgb_model.feature_importances_}\n",
    "featrue_importance_df = pd.DataFrame(feature_importance_dict)\n",
    "featrue_importance_df.to_csv('data/feature_importance.csv')"
   ]
  },
  {
   "cell_type": "code",
   "execution_count": null,
   "metadata": {},
   "outputs": [],
   "source": []
  }
 ],
 "metadata": {
  "kernelspec": {
   "display_name": "covid",
   "language": "python",
   "name": "python3"
  },
  "language_info": {
   "codemirror_mode": {
    "name": "ipython",
    "version": 3
   },
   "file_extension": ".py",
   "mimetype": "text/x-python",
   "name": "python",
   "nbconvert_exporter": "python",
   "pygments_lexer": "ipython3",
   "version": "3.10.8"
  },
  "orig_nbformat": 4,
  "vscode": {
   "interpreter": {
    "hash": "72a60da5162cf5d458cb2db71a4e7796a0c7fc52f842b27edfae3b82254df2c6"
   }
  }
 },
 "nbformat": 4,
 "nbformat_minor": 2
}
